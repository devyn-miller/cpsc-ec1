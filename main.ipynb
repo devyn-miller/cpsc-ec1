{
 "cells": [
  {
   "cell_type": "markdown",
   "metadata": {},
   "source": [
    "# ***Extra Credit Assignment 1***"
   ]
  },
  {
   "cell_type": "code",
   "execution_count": 1,
   "metadata": {},
   "outputs": [
    {
     "name": "stdout",
     "output_type": "stream",
     "text": [
      "/Users/devynmiller/Downloads/ec1-cpsc542\n"
     ]
    }
   ],
   "source": [
    "import os\n",
    "print(os.getcwd())  # Check current working directory\n",
    "os.chdir('/Users/devynmiller/Downloads/ec1-cpsc542')  # Change to your project directory"
   ]
  },
  {
   "cell_type": "code",
   "execution_count": 2,
   "metadata": {},
   "outputs": [],
   "source": [
    "import warnings\n",
    "warnings.filterwarnings(\"ignore\")\n",
    "import importlib\n"
   ]
  },
  {
   "cell_type": "code",
   "execution_count": 3,
   "metadata": {},
   "outputs": [],
   "source": [
    "import tensorflow as tf\n",
    "import matplotlib.pyplot as plt\n",
    "from tensorflow.keras.models import load_model\n",
    "from tensorflow.keras.preprocessing.image import img_to_array, load_img"
   ]
  },
  {
   "cell_type": "markdown",
   "metadata": {},
   "source": [
    "# **Preprocessing**"
   ]
  },
  {
   "cell_type": "markdown",
   "metadata": {},
   "source": [
    "### Import augmentation module"
   ]
  },
  {
   "cell_type": "code",
   "execution_count": null,
   "metadata": {},
   "outputs": [],
   "source": [
    "#preprocessing.py\n",
    "import src.augmentation as augmentation\n",
    "importlib.reload(augmentation)\n",
    "\n",
    "# Initialize augmentation\n",
    "aug = augmentation()"
   ]
  },
  {
   "cell_type": "markdown",
   "metadata": {},
   "source": [
    "### Load data"
   ]
  },
  {
   "cell_type": "code",
   "execution_count": 4,
   "metadata": {},
   "outputs": [
    {
     "ename": "ModuleNotFoundError",
     "evalue": "No module named 'augmentation'",
     "output_type": "error",
     "traceback": [
      "\u001b[0;31m---------------------------------------------------------------------------\u001b[0m",
      "\u001b[0;31mModuleNotFoundError\u001b[0m                       Traceback (most recent call last)",
      "Cell \u001b[0;32mIn[4], line 2\u001b[0m\n\u001b[1;32m      1\u001b[0m \u001b[38;5;66;03m#preprocessing.py\u001b[39;00m\n\u001b[0;32m----> 2\u001b[0m \u001b[38;5;28;01mimport\u001b[39;00m \u001b[38;5;21;01msrc\u001b[39;00m\u001b[38;5;21;01m.\u001b[39;00m\u001b[38;5;21;01mdataloader_eda\u001b[39;00m \u001b[38;5;28;01mas\u001b[39;00m \u001b[38;5;21;01mdataloader_eda\u001b[39;00m\n\u001b[1;32m      3\u001b[0m importlib\u001b[38;5;241m.\u001b[39mreload(dataloader_eda)\n\u001b[1;32m      5\u001b[0m test_path, train_path, train \u001b[38;5;241m=\u001b[39m dataloader_eda\u001b[38;5;241m.\u001b[39mload_data()\n",
      "File \u001b[0;32m~/Downloads/ec1-cpsc542/src/dataloader_eda.py:15\u001b[0m\n\u001b[1;32m     12\u001b[0m     train\u001b[38;5;241m.\u001b[39mdrop_duplicates(subset\u001b[38;5;241m=\u001b[39m\u001b[38;5;124m'\u001b[39m\u001b[38;5;124mimage\u001b[39m\u001b[38;5;124m'\u001b[39m, inplace\u001b[38;5;241m=\u001b[39m\u001b[38;5;28;01mTrue\u001b[39;00m, ignore_index\u001b[38;5;241m=\u001b[39m\u001b[38;5;28;01mTrue\u001b[39;00m)\n\u001b[1;32m     13\u001b[0m     \u001b[38;5;28;01mreturn\u001b[39;00m test_path, train_path, train\n\u001b[0;32m---> 15\u001b[0m \u001b[38;5;28;01mfrom\u001b[39;00m \u001b[38;5;21;01maugmentation\u001b[39;00m \u001b[38;5;28;01mimport\u001b[39;00m augmentation  \u001b[38;5;66;03m# Add this import\u001b[39;00m\n\u001b[1;32m     17\u001b[0m \u001b[38;5;28;01mdef\u001b[39;00m \u001b[38;5;21mdata_generator\u001b[39m(df\u001b[38;5;241m=\u001b[39mtrain, batch_size\u001b[38;5;241m=\u001b[39m\u001b[38;5;241m16\u001b[39m, path\u001b[38;5;241m=\u001b[39mtrain_path):\n\u001b[1;32m     18\u001b[0m     test_path, train_path, train \u001b[38;5;241m=\u001b[39m load_data()\n",
      "\u001b[0;31mModuleNotFoundError\u001b[0m: No module named 'augmentation'"
     ]
    }
   ],
   "source": [
    "#preprocessing.py\n",
    "import src.dataloader_eda as dataloader_eda\n",
    "importlib.reload(dataloader_eda)\n",
    "\n",
    "# Load data\n",
    "test_path, train_path, train = dataloader_eda.load_data()\n",
    "\n",
    "# Use the data generator with augmentation\n",
    "generator = dataloader_eda.data_generator(train, 16, train_path, augmentation=aug)"
   ]
  },
  {
   "cell_type": "markdown",
   "metadata": {},
   "source": [
    "### Augmentation and EDA"
   ]
  },
  {
   "cell_type": "code",
   "execution_count": null,
   "metadata": {},
   "outputs": [],
   "source": [
    "# Test the generator\n",
    "example, label = next(dataloader_eda.data_generator(batch_size=1))\n",
    "img = example['image'][0]\n",
    "bbox_coords = label['coords'][0]"
   ]
  },
  {
   "cell_type": "code",
   "execution_count": null,
   "metadata": {},
   "outputs": [],
   "source": [
    "dataloader_eda.display_image_from_file(\"vid_4_10520.jpg\")\n",
    "\n",
    "dataloader_eda.display_image(img, bbox_coords=bbox_coords, norm=True)\n",
    "dataloader_eda.display_grid(train)"
   ]
  },
  {
   "cell_type": "markdown",
   "metadata": {},
   "source": [
    "# **Model**"
   ]
  },
  {
   "cell_type": "markdown",
   "metadata": {},
   "source": [
    "### Model"
   ]
  },
  {
   "cell_type": "code",
   "execution_count": null,
   "metadata": {},
   "outputs": [],
   "source": [
    "import model as model\n",
    "importlib.reload(model)\n",
    "\n",
    "model, test = model.modeling()"
   ]
  },
  {
   "cell_type": "markdown",
   "metadata": {},
   "source": [
    "### Prediction"
   ]
  },
  {
   "cell_type": "code",
   "execution_count": null,
   "metadata": {},
   "outputs": [],
   "source": [
    "import src.predict as predict\n",
    "importlib.reload(predict)\n",
    "\n",
    "image_path = \"example_image.jpg\"\n",
    "predicted_bbox = predict.predict_bounding_box(image_path)\n",
    "print(f\"Predicted bounding box for {image_path}: {predicted_bbox}\")"
   ]
  },
  {
   "cell_type": "markdown",
   "metadata": {},
   "source": [
    "### Training"
   ]
  },
  {
   "cell_type": "code",
   "execution_count": null,
   "metadata": {},
   "outputs": [],
   "source": [
    "import src.train as train_model\n",
    "importlib.reload(train_model)\n",
    "import json\n",
    "\n",
    "train.train_model()"
   ]
  },
  {
   "cell_type": "markdown",
   "metadata": {},
   "source": [
    "# **Validation**"
   ]
  },
  {
   "cell_type": "markdown",
   "metadata": {},
   "source": [
    "### Loss Metrics/Graphs"
   ]
  },
  {
   "cell_type": "code",
   "execution_count": null,
   "metadata": {},
   "outputs": [],
   "source": [
    "import src.evaluation as evaluate\n",
    "importlib.reload(evaluate)\n",
    "\n",
    "for i in range(5):\n",
    "    model_path = f'/Users/devynmiller/Downloads/ec1-cpsc542/models/best_model_{i}.h5'\n",
    "    history, best_3, worst_3, display_with_boxes, generate_gradcam = evaluate.evaluate_model(model_path)\n",
    "    \n",
    "    evaluate.plot_model_metrics(history, f'Best Model {i}')\n",
    "    \n",
    "    print(f\"Best 3 for model {i}\")\n",
    "    for index, (iou, image, pred_box, true_box) in enumerate(best_3):\n",
    "        save_path_best = f'/Users/devynmiller/Downloads/ec1-cpsc542/PNGs/3b3w/best_model_{i}_best_{index}.png'\n",
    "        display_with_boxes(image, pred_box, true_box, save_path_best)\n",
    "\n",
    "    print(f\"Worst 3 for model {i}\")\n",
    "    for index, (iou, image, pred_box, true_box) in enumerate(worst_3):\n",
    "        save_path_worst = f'/Users/devynmiller/Downloads/ec1-cpsc542/PNGs/3b3w/best_model_{i}_worst_{index}.png'\n",
    "        display_with_boxes(image, pred_box, true_box, save_path_worst)\n",
    "\n",
    "    img = load_img('/Users/devynmiller/Downloads/ec1-cpsc542/your_image.jpg', target_size=(224, 224))\n",
    "    img_array = img_to_array(img)\n",
    "    img_array = np.expand_dims(img_array, axis=0)\n",
    "\n",
    "    layer_name = 'conv2d_9'\n",
    "    gradcam_image = generate_gradcam(model_path, img_array, layer_name)\n",
    "\n",
    "    plt.imshow(gradcam_image)\n",
    "    plt.title(f'GradCAM for Best Model {i}')\n",
    "    plt.show()\n",
    "\n",
    "    gradcam_save_path = f'/Users/devynmiller/Downloads/ec1-cpsc542/PNGs/gradcam/gradcam_model_{i}.png'\n",
    "    plt.imsave(gradcam_save_path, gradcam_image)"
   ]
  }
 ],
 "metadata": {
  "kernelspec": {
   "display_name": "base",
   "language": "python",
   "name": "python3"
  },
  "language_info": {
   "codemirror_mode": {
    "name": "ipython",
    "version": 3
   },
   "file_extension": ".py",
   "mimetype": "text/x-python",
   "name": "python",
   "nbconvert_exporter": "python",
   "pygments_lexer": "ipython3",
   "version": "3.11.5"
  }
 },
 "nbformat": 4,
 "nbformat_minor": 2
}
