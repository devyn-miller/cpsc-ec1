{
 "cells": [
  {
   "cell_type": "markdown",
   "metadata": {},
   "source": [
    "# ***Extra Credit Assignment 1***"
   ]
  },
  {
   "cell_type": "code",
   "execution_count": null,
   "metadata": {},
   "outputs": [],
   "source": [
    "import os\n",
    "print(os.getcwd())  # Check current working directory\n",
    "os.chdir('/Users/devynmiller/Downloads/ec1-cpsc542')  # Change to your project directory"
   ]
  },
  {
   "cell_type": "code",
   "execution_count": null,
   "metadata": {},
   "outputs": [],
   "source": [
    "import warnings\n",
    "warnings.filterwarnings(\"ignore\")\n",
    "import importlib\n"
   ]
  },
  {
   "cell_type": "code",
   "execution_count": null,
   "metadata": {},
   "outputs": [],
   "source": [
    "import tensorflow as tf\n",
    "import matplotlib.pyplot as plt\n",
    "from tensorflow.keras.models import load_model\n",
    "from tensorflow.keras.preprocessing.image import img_to_array, load_img"
   ]
  },
  {
   "cell_type": "markdown",
   "metadata": {},
   "source": [
    "# **Preprocessing**"
   ]
  },
  {
   "cell_type": "markdown",
   "metadata": {},
   "source": [
    "### Load data"
   ]
  },
  {
   "cell_type": "code",
   "execution_count": null,
   "metadata": {},
   "outputs": [],
   "source": [
    "#preprocessing.py\n",
    "import src.dataloader_eda as dataloader_eda\n",
    "importlib.reload(dataloader_eda)\n",
    "\n",
    "test_path, train_path, train = dataloader_eda.load_data()"
   ]
  },
  {
   "cell_type": "markdown",
   "metadata": {},
   "source": [
    "### Augmentation and EDA"
   ]
  },
  {
   "cell_type": "code",
   "execution_count": null,
   "metadata": {},
   "outputs": [],
   "source": [
    "# Test the generator\n",
    "example, label = next(dataloader_eda.data_generator(batch_size=1))\n",
    "img = example['image'][0]\n",
    "bbox_coords = label['coords'][0]"
   ]
  },
  {
   "cell_type": "code",
   "execution_count": null,
   "metadata": {},
   "outputs": [],
   "source": [
    "dataloader_eda.display_image_from_file(\"vid_4_10520.jpg\")\n",
    "\n",
    "dataloader_eda.display_image(img, bbox_coords=bbox_coords, norm=True)\n",
    "dataloader_eda.display_grid(train)"
   ]
  },
  {
   "cell_type": "markdown",
   "metadata": {},
   "source": [
    "# **Model**"
   ]
  },
  {
   "cell_type": "markdown",
   "metadata": {},
   "source": [
    "### Model"
   ]
  },
  {
   "cell_type": "code",
   "execution_count": null,
   "metadata": {},
   "outputs": [],
   "source": [
    "import model as model\n",
    "importlib.reload(model)\n",
    "\n",
    "model, test = model.modeling()"
   ]
  },
  {
   "cell_type": "markdown",
   "metadata": {},
   "source": [
    "### Prediction"
   ]
  },
  {
   "cell_type": "code",
   "execution_count": null,
   "metadata": {},
   "outputs": [],
   "source": [
    "import src.predict as predict\n",
    "importlib.reload(predict)\n",
    "\n",
    "image_path = \"example_image.jpg\"\n",
    "predicted_bbox = predict.predict_bounding_box(image_path)\n",
    "print(f\"Predicted bounding box for {image_path}: {predicted_bbox}\")"
   ]
  },
  {
   "cell_type": "markdown",
   "metadata": {},
   "source": [
    "### Training"
   ]
  },
  {
   "cell_type": "code",
   "execution_count": null,
   "metadata": {},
   "outputs": [],
   "source": [
    "import src.train as train_model\n",
    "importlib.reload(train_model)\n",
    "import json\n",
    "\n",
    "train.train_model()"
   ]
  },
  {
   "cell_type": "markdown",
   "metadata": {},
   "source": [
    "# **Validation**"
   ]
  },
  {
   "cell_type": "markdown",
   "metadata": {},
   "source": [
    "### Loss Metrics/Graphs"
   ]
  },
  {
   "cell_type": "code",
   "execution_count": null,
   "metadata": {},
   "outputs": [],
   "source": [
    "import src.evaluation as evaluate\n",
    "importlib.reload(evaluate)\n",
    "\n",
    "# Loop through each of the 5 best models\n",
    "for i in range(5):\n",
    "    model_path = f'best_model_{i}.h5'\n",
    "    history, best_3, worst_3, display_with_boxes, generate_gradcam = evaluate.evaluate_model(model_path)\n",
    "    \n",
    "    # Plot training and validation accuracy and loss\n",
    "    evaluate.plot_model_metrics(history, f'Best Model {i}')\n",
    "    \n",
    "    # Display best 3 bounding boxes\n",
    "    print(f\"Best 3 for model {i}\")\n",
    "    for iou, image, pred_box, true_box in best_3:\n",
    "        display_with_boxes(image, pred_box, true_box)\n",
    "\n",
    "    # Display worst 3 bounding boxes\n",
    "    print(f\"Worst 3 for model {i}\")\n",
    "    for iou, image, pred_box, true_box in worst_3:\n",
    "        display_with_boxes(image, pred_box, true_box)\n",
    "    \n",
    "    # Generate and display GradCAM visualization\n",
    "\n",
    "    # Inside the loop for each model\n",
    "    img = load_img('path_to_your_image.jpg', target_size=(224, 224))  # Adjust target_size as per your model's input\n",
    "    img_array = img_to_array(img)\n",
    "    img_array = np.expand_dims(img_array, axis=0)  # Model expects a batch of images, so add batch dimension\n",
    "\n",
    "    layer_name = 'conv2d_9'  # Replace with your layer name\n",
    "    gradcam_image = generate_gradcam(model_path, img_array, layer_name)\n",
    "\n",
    "    # Display GradCAM image\n",
    "    plt.imshow(gradcam_image)\n",
    "    plt.title(f'GradCAM for Best Model {i}')\n",
    "    plt.show()"
   ]
  }
 ],
 "metadata": {
  "kernelspec": {
   "display_name": "base",
   "language": "python",
   "name": "python3"
  },
  "language_info": {
   "codemirror_mode": {
    "name": "ipython",
    "version": 3
   },
   "file_extension": ".py",
   "mimetype": "text/x-python",
   "name": "python",
   "nbconvert_exporter": "python",
   "pygments_lexer": "ipython3",
   "version": "3.11.5"
  }
 },
 "nbformat": 4,
 "nbformat_minor": 2
}
